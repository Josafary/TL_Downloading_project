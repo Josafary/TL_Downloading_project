{
 "cells": [
  {
   "cell_type": "code",
   "execution_count": 7,
   "metadata": {},
   "outputs": [],
   "source": [
    "import PySimpleGUI as sg\n",
    "import lightkurve as lk\n",
    "import numpy as np\n",
    "import pandas as pd\n",
    "\n",
    "####### THEME #######\n",
    "sg.theme('DarkGray1')\n",
    "#####################\n",
    "\n",
    "#LAYOUT\n",
    "layout = [\n",
    "    [sg.Radio('Target', 'tgt' , key='-TARGET_RADIO-', default=True), sg.Input('', key='-TARGET_INPUT-', size=(45, 0), pad=(51, 5))],\n",
    "    [sg.Radio('List of Targets', 'tgt', key='-TARGET_LIST_RADIO-'), sg.Input(key='-TARGET_FILE-'), sg.FileBrowse(enable_events=True, size=(12, 0))],\n",
    "    [sg.HSeparator()],\n",
    "    [sg.Radio('Sector', 'sct', key='-SEC_RADIO-', default=True), sg.Input('', key='-SEC_INPUT-', size=(10, 0), pad=(51, 5))],\n",
    "    [sg.Radio('List of Sectors', 'sct', key='-SEC_LIST_RADIO-'), sg.Input('', key='-SEC_LIST_INPUT-', pad=(5, 5))],\n",
    "    [sg.Radio('All Sectors (merged)', 'sct', key='-ALL_SEC_RADIO-')],\n",
    "    [sg.HSeparator()],\n",
    "    [sg.Push(), sg.Button('DOWNLOAD', key='-DOWNLOAD_BUTTON-', size=(12, 2)), sg.Push()],\n",
    "    [sg.ProgressBar(100, size=(500, 15), bar_color=('green', 'lightgrey'))]\n",
    "    \n",
    "]\n",
    "\n",
    "# FUNCTIONALITIES\n",
    "def single_target(tic, sector):\n",
    "    search = lk.search_lightcurve(target=f'TIC {tic}', sector=sector, author='SPOC', exptime=120)\n",
    "    lc = search.download().normalize().remove_outliers(sigma=3.5)\n",
    "    time = lc.time.value\n",
    "    flux = lc.flux.value\n",
    "    df = pd.DataFrame(np.column_stack([time,flux]), columns=['Time', 'Flux'] )\n",
    "    return df\n",
    "    \n",
    "\n",
    "\n",
    "# JANELA\n",
    "window = sg.Window('TL Download Project', layout=layout, size=(550, 300))\n",
    "\n",
    "\n",
    "while True:\n",
    "    event, value = window.read()\n",
    "    \n",
    "    if event == sg.WIN_CLOSED:\n",
    "        break\n",
    "        \n",
    "    if event == '-DOWNLOAD_BUTTON-':\n",
    "        ### Download the specified sector of the specified target ###\n",
    "        if value['-TARGET_RADIO-'] == True and value['-SEC_RADIO-'] == True:\n",
    "            tic = value['-TARGET_INPUT-']\n",
    "            sector = value['-SEC_INPUT-']\n",
    "            data = single_target(tic, sector)\n",
    "            data.to_csv(f'{tic.zfill(10)}_{str(sector).zfill(2)}.dat', sep=' ', index=None, header=None)\n",
    "            \n",
    "            sg.popup('File saved successfully!')\n",
    "            \n",
    "        \n",
    "window.close()"
   ]
  },
  {
   "cell_type": "code",
   "execution_count": null,
   "metadata": {},
   "outputs": [],
   "source": []
  }
 ],
 "metadata": {
  "kernelspec": {
   "display_name": "Python 3 (ipykernel)",
   "language": "python",
   "name": "python3"
  },
  "language_info": {
   "codemirror_mode": {
    "name": "ipython",
    "version": 3
   },
   "file_extension": ".py",
   "mimetype": "text/x-python",
   "name": "python",
   "nbconvert_exporter": "python",
   "pygments_lexer": "ipython3",
   "version": "3.11.5"
  }
 },
 "nbformat": 4,
 "nbformat_minor": 2
}
