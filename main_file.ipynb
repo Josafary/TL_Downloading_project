{
 "cells": [
  {
   "cell_type": "code",
   "execution_count": 40,
   "metadata": {},
   "outputs": [],
   "source": [
    "import PySimpleGUI as sg\n",
    "\n",
    "#LAYOUT\n",
    "layout = [\n",
    "    [sg.Text('Target', justification='left'), sg.Input('', key='-TARGET_INPUT-', size=(52, 0))],\n",
    "    [sg.Text('List of Targets'), sg.Input(key='-TARGET_FILE-'), sg.FileBrowse(enable_events=True, size=(12, 0))],\n",
    "    [sg.HSeparator()],\n",
    "    []\n",
    "    \n",
    "]\n",
    "\n",
    "\n",
    "# JANELA\n",
    "window = sg.Window('TL Download Project', layout=layout, size=(550, 200))\n",
    "\n",
    "\n",
    "while True:\n",
    "    evento, valor = window.read()\n",
    "    \n",
    "    if evento == sg.WIN_CLOSED or evento == 'Cancelar':\n",
    "        break\n",
    "        \n",
    "window.close()"
   ]
  },
  {
   "cell_type": "code",
   "execution_count": null,
   "metadata": {},
   "outputs": [],
   "source": []
  }
 ],
 "metadata": {
  "kernelspec": {
   "display_name": "Python 3 (ipykernel)",
   "language": "python",
   "name": "python3"
  },
  "language_info": {
   "codemirror_mode": {
    "name": "ipython",
    "version": 3
   },
   "file_extension": ".py",
   "mimetype": "text/x-python",
   "name": "python",
   "nbconvert_exporter": "python",
   "pygments_lexer": "ipython3",
   "version": "3.9.13"
  }
 },
 "nbformat": 4,
 "nbformat_minor": 2
}
