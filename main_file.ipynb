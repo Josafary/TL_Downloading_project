{
 "cells": [
  {
   "cell_type": "code",
   "execution_count": 2,
   "metadata": {},
   "outputs": [],
   "source": [
    "import PySimpleGUI as sg\n",
    "\n",
    "####### THEME #######\n",
    "sg.theme('DarkGray1')\n",
    "#####################\n",
    "\n",
    "#LAYOUT\n",
    "layout = [\n",
    "    [sg.Radio('Target', 'tgt' , key='-TARGET_RADIO-', default=True), sg.Input('', key='-TARGET_INPUT-', size=(45, 0), pad=(51, 5))],\n",
    "    [sg.Radio('List of Targets', 'tgt', key='-TARGET_LIST_RADIO-'), sg.Input(key='-TARGET_FILE-'), sg.FileBrowse(enable_events=True, size=(12, 0))],\n",
    "    [sg.HSeparator()],\n",
    "    [sg.Radio('Sector', 'sct', key='-SEC_RADIO-', default=True), sg.Input('', key='-SEC_INPUT-', size=(10, 0), pad=(51, 5))],\n",
    "    [sg.Radio('List of Sectors', 'sct', key='-SEC_LIST_RADIO-'), sg.Input('', key='-SEC_LIST_INPUT-', pad=(5, 5))],\n",
    "    [sg.Radio('All Sectors (merged)', 'sct', key='-ALL_SEC_RADIO-')],\n",
    "    [sg.HSeparator()],\n",
    "    [sg.Push(), sg.Button('DOWNLOAD', key='-DOWNLOAD_BUTTON-', size=(12, 2)), sg.Push()],\n",
    "    [sg.ProgressBar(100, size=(500, 15), bar_color=('green', 'lightgrey'))]\n",
    "    \n",
    "]\n",
    "\n",
    "\n",
    "# JANELA\n",
    "window = sg.Window('TL Download Project', layout=layout, size=(550, 300))\n",
    "\n",
    "\n",
    "while True:\n",
    "    evento, valor = window.read()\n",
    "    \n",
    "    if evento == sg.WIN_CLOSED or evento == 'Cancelar':\n",
    "        break\n",
    "        \n",
    "window.close()"
   ]
  },
  {
   "cell_type": "code",
   "execution_count": null,
   "metadata": {},
   "outputs": [],
   "source": []
  }
 ],
 "metadata": {
  "kernelspec": {
   "display_name": "Python 3 (ipykernel)",
   "language": "python",
   "name": "python3"
  },
  "language_info": {
   "codemirror_mode": {
    "name": "ipython",
    "version": 3
   },
   "file_extension": ".py",
   "mimetype": "text/x-python",
   "name": "python",
   "nbconvert_exporter": "python",
   "pygments_lexer": "ipython3",
   "version": "3.9.13"
  }
 },
 "nbformat": 4,
 "nbformat_minor": 2
}
